{
 "cells": [
  {
   "cell_type": "code",
   "execution_count": 1,
   "id": "47ddf39d",
   "metadata": {
    "execution": {
     "iopub.execute_input": "2021-11-02T16:25:54.723055Z",
     "iopub.status.busy": "2021-11-02T16:25:54.722501Z",
     "iopub.status.idle": "2021-11-02T16:25:55.592776Z",
     "shell.execute_reply": "2021-11-02T16:25:55.592145Z"
    }
   },
   "outputs": [],
   "source": [
    "from qiskit_nature.operators.second_quantization import SpinOp\n",
    "\n",
    "x = SpinOp(\"X\", spin=3/2)\n",
    "y = SpinOp(\"Y\", spin=3/2)\n",
    "z = SpinOp(\"Z\", spin=3/2)"
   ]
  },
  {
   "cell_type": "code",
   "execution_count": 2,
   "id": "c4a16f85",
   "metadata": {
    "execution": {
     "iopub.execute_input": "2021-11-02T16:25:55.605174Z",
     "iopub.status.busy": "2021-11-02T16:25:55.600625Z",
     "iopub.status.idle": "2021-11-02T16:25:55.608867Z",
     "shell.execute_reply": "2021-11-02T16:25:55.609319Z"
    }
   },
   "outputs": [
    {
     "data": {
      "text/plain": [
       "SpinOp([('X_0 X_1', (-1+0j)), ('Y_0 Y_1', (-1+0j)), ('Z_0 Z_1', (-1+0j)), ('Z_0', (-0.3+0j)), ('Z_1', (-0.3+0j))], spin=1, register_length=2)"
      ]
     },
     "execution_count": 2,
     "metadata": {},
     "output_type": "execute_result"
    }
   ],
   "source": [
    "SpinOp(\n",
    "    [\n",
    "        (\"XX\", -1),\n",
    "        (\"YY\", -1),\n",
    "        (\"ZZ\", -1),\n",
    "        (\"ZI\", -0.3),\n",
    "        (\"IZ\", -0.3),\n",
    "    ],\n",
    "    spin=1\n",
    ")"
   ]
  },
  {
   "cell_type": "code",
   "execution_count": 3,
   "id": "621cb1fd",
   "metadata": {
    "execution": {
     "iopub.execute_input": "2021-11-02T16:25:55.615880Z",
     "iopub.status.busy": "2021-11-02T16:25:55.613962Z",
     "iopub.status.idle": "2021-11-02T16:25:55.618231Z",
     "shell.execute_reply": "2021-11-02T16:25:55.617703Z"
    }
   },
   "outputs": [
    {
     "data": {
      "text/plain": [
       "SpinOp([('X_0', (1+0j)), ('Y_0', 1j)], spin=3/2, register_length=1)"
      ]
     },
     "execution_count": 3,
     "metadata": {},
     "output_type": "execute_result"
    }
   ],
   "source": [
    "x + 1j * y"
   ]
  },
  {
   "cell_type": "code",
   "execution_count": 4,
   "id": "42d474ff",
   "metadata": {
    "execution": {
     "iopub.execute_input": "2021-11-02T16:25:55.622362Z",
     "iopub.status.busy": "2021-11-02T16:25:55.620237Z",
     "iopub.status.idle": "2021-11-02T16:25:55.626012Z",
     "shell.execute_reply": "2021-11-02T16:25:55.626476Z"
    }
   },
   "outputs": [
    {
     "data": {
      "text/plain": [
       "SpinOp(('Z_0', -1j), spin=3/2, register_length=1)"
      ]
     },
     "execution_count": 4,
     "metadata": {},
     "output_type": "execute_result"
    }
   ],
   "source": [
    "~(1j * z)"
   ]
  }
 ],
 "metadata": {
  "kernelspec": {
   "display_name": "Python 3 (ipykernel)",
   "language": "python",
   "name": "python3"
  },
  "language_info": {
   "codemirror_mode": {
    "name": "ipython",
    "version": 3
   },
   "file_extension": ".py",
   "mimetype": "text/x-python",
   "name": "python",
   "nbconvert_exporter": "python",
   "pygments_lexer": "ipython3",
   "version": "3.8.12"
  }
 },
 "nbformat": 4,
 "nbformat_minor": 5
}