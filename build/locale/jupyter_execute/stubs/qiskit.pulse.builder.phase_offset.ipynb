{
 "cells": [
  {
   "cell_type": "code",
   "execution_count": 1,
   "id": "23e84df3",
   "metadata": {
    "execution": {
     "iopub.execute_input": "2021-11-09T15:08:51.873037Z",
     "iopub.status.busy": "2021-11-09T15:08:51.871302Z",
     "iopub.status.idle": "2021-11-09T15:08:52.971324Z",
     "shell.execute_reply": "2021-11-09T15:08:52.971848Z"
    }
   },
   "outputs": [],
   "source": [
    "import math\n",
    "\n",
    "from qiskit import pulse\n",
    "\n",
    "d0 = pulse.DriveChannel(0)\n",
    "\n",
    "with pulse.build() as pulse_prog:\n",
    "    with pulse.phase_offset(math.pi, d0):\n",
    "        pulse.play(pulse.Constant(10, 1.0), d0)\n",
    "\n",
    "assert len(pulse_prog.instructions) == 3"
   ]
  }
 ],
 "metadata": {
  "kernelspec": {
   "display_name": "Python 3 (ipykernel)",
   "language": "python",
   "name": "python3"
  },
  "language_info": {
   "codemirror_mode": {
    "name": "ipython",
    "version": 3
   },
   "file_extension": ".py",
   "mimetype": "text/x-python",
   "name": "python",
   "nbconvert_exporter": "python",
   "pygments_lexer": "ipython3",
   "version": "3.8.12"
  }
 },
 "nbformat": 4,
 "nbformat_minor": 5
}